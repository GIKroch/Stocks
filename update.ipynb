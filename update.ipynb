{
 "cells": [
  {
   "cell_type": "code",
   "execution_count": 22,
   "metadata": {},
   "outputs": [],
   "source": [
    "import pandas as pd\n",
    "import pandas_datareader.data as web\n",
    "from datetime import datetime, timedelta\n",
    "import sqlite3"
   ]
  },
  {
   "cell_type": "code",
   "execution_count": 235,
   "metadata": {},
   "outputs": [],
   "source": [
    "conn = sqlite3.connect(\"us_stocks.db\")\n",
    "c = conn.cursor()"
   ]
  },
  {
   "cell_type": "code",
   "execution_count": 241,
   "metadata": {},
   "outputs": [],
   "source": [
    "max_date_available = list(c.execute(\"SELECT MAX(Date) FROM stocks_final\"))[0][0]\n",
    "max_date_available = datetime.strptime(max_date_available, \"%Y-%m-%d %H:%M:%S\" )"
   ]
  },
  {
   "cell_type": "code",
   "execution_count": 242,
   "metadata": {},
   "outputs": [],
   "source": [
    "first_date_to_get = max_date_available + timedelta(1)"
   ]
  },
  {
   "cell_type": "code",
   "execution_count": 244,
   "metadata": {},
   "outputs": [],
   "source": [
    "today = datetime.today() \n",
    "today = datetime(today.year, today.month, today.day, 0, 0)"
   ]
  },
  {
   "cell_type": "code",
   "execution_count": 245,
   "metadata": {},
   "outputs": [],
   "source": [
    "business_dates = list(pd.bdate_range(first_date_to_get,today))"
   ]
  },
  {
   "cell_type": "code",
   "execution_count": 246,
   "metadata": {},
   "outputs": [],
   "source": [
    "## If today is not equal to first date we want to get, we can run the code to produce range\n",
    "\n",
    "if today != first_date_to_get:\n",
    "    business_dates = list(pd.bdate_range(first_date_to_get,today))\n",
    "    \n",
    "    ## If today's date is in the list we have to drop it. It may happen when there is a weekend in between: \n",
    "    \n",
    "    if today.date() in [ts.date() for ts in business_dates]:\n",
    "        \n",
    "    ## Dropping the last element\n",
    "        business_dates.pop()\n",
    "    \n",
    "    ## Now we have a final list with business days for which data should be gathered\n",
    "    \n",
    "    ## Loading ticker, market pairs to iterate through\n",
    "    ticker_market_list = list(c.execute(\"SELECT DISTINCT Ticker, Market FROM stocks_final\"))\n",
    "    \n",
    "    ## Gathering data and saving to sql table\n",
    "    \n",
    "    for ticker, market in ticker_market_list:\n",
    "        if len(business_dates) == 1:\n",
    "    \n",
    "        df = web.DataReader(ticker, 'yahoo', first_date_to_get, first_date_to_get)\n",
    "        df[\"Ticker\"] = ticker\n",
    "        df[\"Market\"] = market\n",
    "        df.reset_index(inplace = True)\n",
    "        df = df.iloc[:,[7,0,1,2,3,4,6,5,8]]\n",
    "        df = df.drop_duplicates(\"Date\")\n",
    "        df.to_sql(\"stocks_final\", conn, if_exists = 'append', index = False)\n",
    "\n",
    "    else:\n",
    "\n",
    "        last_date_to_get = business_dates[-1]\n",
    "\n",
    "        df = web.DataReader(ticker, 'yahoo', first_date_to_get, last_date_to_get)\n",
    "        df[\"Ticker\"] = ticker\n",
    "        df[\"Market\"] = market\n",
    "        df.reset_index(inplace = True)\n",
    "        df = df.iloc[:,[7,0,1,2,3,4,6,5,8]]\n",
    "        df.to_sql(\"stocks\", conn, if_exists = 'append', index = False)"
   ]
  },
  {
   "cell_type": "code",
   "execution_count": null,
   "metadata": {},
   "outputs": [],
   "source": []
  }
 ],
 "metadata": {
  "kernelspec": {
   "display_name": "Python 3",
   "language": "python",
   "name": "python3"
  },
  "language_info": {
   "codemirror_mode": {
    "name": "ipython",
    "version": 3
   },
   "file_extension": ".py",
   "mimetype": "text/x-python",
   "name": "python",
   "nbconvert_exporter": "python",
   "pygments_lexer": "ipython3",
   "version": "3.7.3"
  }
 },
 "nbformat": 4,
 "nbformat_minor": 2
}
